{
 "cells": [
  {
   "cell_type": "code",
   "execution_count": 2,
   "id": "c1022afe-e56d-4e44-b201-0496971861d0",
   "metadata": {},
   "outputs": [
    {
     "name": "stdout",
     "output_type": "stream",
     "text": [
      "Hola Mundo\n"
     ]
    }
   ],
   "source": [
    "print(\"Hola Mundo\")"
   ]
  },
  {
   "cell_type": "code",
   "execution_count": 10,
   "id": "ca79aee8-36da-4d84-9283-a0cfd023b0fe",
   "metadata": {},
   "outputs": [
    {
     "name": "stdout",
     "output_type": "stream",
     "text": [
      "5\n"
     ]
    }
   ],
   "source": [
    "print(2 + 3)"
   ]
  },
  {
   "cell_type": "code",
   "execution_count": 8,
   "id": "4906b0f8-fab2-4d51-86ef-24daaebf7f5e",
   "metadata": {},
   "outputs": [
    {
     "name": "stdout",
     "output_type": "stream",
     "text": [
      "12\n"
     ]
    }
   ],
   "source": [
    "print(3 * 4)"
   ]
  },
  {
   "cell_type": "code",
   "execution_count": 6,
   "id": "f16d2e27-f3bb-4c8e-9f34-d82e8510d913",
   "metadata": {},
   "outputs": [
    {
     "name": "stdout",
     "output_type": "stream",
     "text": [
      "2.0\n"
     ]
    }
   ],
   "source": [
    "print(6 / 3)"
   ]
  },
  {
   "cell_type": "code",
   "execution_count": 4,
   "id": "4dca8dda-7bf7-4596-adfb-9e6112a5ba6c",
   "metadata": {},
   "outputs": [
    {
     "name": "stdout",
     "output_type": "stream",
     "text": [
      "-1\n"
     ]
    }
   ],
   "source": [
    "print(2 - 3)"
   ]
  },
  {
   "cell_type": "markdown",
   "id": "297f9946-0837-4ca7-806f-292f3cf75cb9",
   "metadata": {},
   "source": [
    "[Visita la pagina del Barcelona](https://www.fcbarcelona.es/es/)"
   ]
  },
  {
   "cell_type": "markdown",
   "id": "24d86f97-6197-42c1-b941-97a58e604f90",
   "metadata": {},
   "source": [
    "# Imagen\n",
    "<img src=\"https://www.tarlogic.com/wp-content/uploads/2023/09/riesgos-seguridad-IA-3.jpg\" alt=\"Texto alternativo\" width=\"500\" height=\"300\">"
   ]
  },
  {
   "cell_type": "markdown",
   "id": "eb7b22f7-03fe-4dca-acc0-5ba24aebbb35",
   "metadata": {},
   "source": [
    ".2\r\n"
   ]
  },
  {
   "cell_type": "markdown",
   "id": "9d337f03-6132-421d-bd99-3fdc8e81de3a",
   "metadata": {},
   "source": [
    "**Este texto está en negritas**\n",
    "__Este también está en negritas__"
   ]
  },
  {
   "cell_type": "markdown",
   "id": "861b9374-6960-4012-ba86-11be1971c5f7",
   "metadata": {},
   "source": [
    "*Este texto está en cursivas*\n",
    "_Este también está en cursivas_"
   ]
  },
  {
   "cell_type": "markdown",
   "id": "d6dc8464-9c15-4676-b686-528e055c06d9",
   "metadata": {},
   "source": [
    "## Lista Ordena\n",
    "1. Elemento 1\n",
    "2. Elemento 2\n",
    "    1. Subelemento 2.1\n",
    "\t2. Subelemento 2.2"
   ]
  },
  {
   "cell_type": "markdown",
   "id": "424a07e2-1251-4ecf-8a37-f7ad9305b34f",
   "metadata": {},
   "source": [
    "## Lista NO Ordena\n",
    "- Elemento 1\n",
    "- Elemento 2\n",
    "    - Subelemento 2.1\n",
    "\t- Subelemento 2.2"
   ]
  },
  {
   "cell_type": "code",
   "execution_count": null,
   "id": "8c2a7bc3-fd7a-433d-a005-7402b20d7914",
   "metadata": {},
   "outputs": [],
   "source": []
  }
 ],
 "metadata": {
  "kernelspec": {
   "display_name": "Python 3 (ipykernel)",
   "language": "python",
   "name": "python3"
  },
  "language_info": {
   "codemirror_mode": {
    "name": "ipython",
    "version": 3
   },
   "file_extension": ".py",
   "mimetype": "text/x-python",
   "name": "python",
   "nbconvert_exporter": "python",
   "pygments_lexer": "ipython3",
   "version": "3.12.4"
  }
 },
 "nbformat": 4,
 "nbformat_minor": 5
}
